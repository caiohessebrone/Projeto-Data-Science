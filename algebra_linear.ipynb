{
 "cells": [
  {
   "cell_type": "markdown",
   "metadata": {},
   "source": [
    "# Algebra Linear\n",
    "## Entendendo um pouco mais sobre algebra linear para data science e machine learning\n",
    "### Vetor\n",
    "### Modulos\n",
    "### Escalares\n",
    "### Operações com vetore\n",
    "### Produto escalar\n",
    "#### O produto escalar de dois vetores é a soma de seus podutos componente a componente"
   ]
  },
  {
   "cell_type": "code",
   "execution_count": 6,
   "metadata": {},
   "outputs": [],
   "source": [
    "from functools import reduce\n",
    "import math"
   ]
  },
  {
   "cell_type": "markdown",
   "metadata": {},
   "source": [
    "## Exemplo de vetores R3 e R4"
   ]
  },
  {
   "cell_type": "code",
   "execution_count": 5,
   "metadata": {},
   "outputs": [],
   "source": [
    "# Vetor R3\n",
    "height_weight_age = [\n",
    "    70, # polegadas,\n",
    "    170, # quilos,\n",
    "    40 # anos\n",
    "]\n",
    "\n",
    "# Vetor R4\n",
    "grades = [\n",
    "    95, # teste1\n",
    "    80, # teste2\n",
    "    75, # teste3\n",
    "    62 # teste4\n",
    "]"
   ]
  },
  {
   "cell_type": "markdown",
   "metadata": {},
   "source": [
    "## Adição e subtração com vetores"
   ]
  },
  {
   "cell_type": "code",
   "execution_count": 7,
   "metadata": {},
   "outputs": [],
   "source": [
    "def vector_add(v, w):\n",
    "    \"\"\"soma elementos crrespondentes\"\"\"\n",
    "    return [v_i + w_i\n",
    "    for v_i, w_i in zip(v, w)]\n",
    "\n",
    "def vector_sub(v, w):\n",
    "    \"\"\"subtrai elementos correspondentes\"\"\"\n",
    "    return [v_i - w_i\n",
    "    for v_i, w_i in zip(v, w)]\n",
    "\n",
    "def vector_sum(vectors):\n",
    "    \"\"\"soma todo os elementos correpondentes\"\"\"\n",
    "    result = vectors[0] # começa com o primeiro vector\n",
    "    for vector in vectors[1:]: # depois passa or todos os outros\n",
    "        result = vector_add(result, vector) # e os adiciona ao resultado\n",
    "    return result\n"
   ]
  },
  {
   "cell_type": "markdown",
   "metadata": {},
   "source": [
    "## Escalares - Multiplicação"
   ]
  },
  {
   "cell_type": "code",
   "execution_count": 10,
   "metadata": {},
   "outputs": [],
   "source": [
    "def scalar_multply(c, v):\n",
    "    \"\"\"c é um número, v é um vetor\"\"\"\n",
    "    return [c * v_i for v_i in v]\n",
    "\n",
    "def vector_mean(vectors):\n",
    "    \"\"\"computar o vetor cujo i-ésimo elemento seja a média dos \n",
    "    i-ésimos elementos dos vetores inclusos\"\"\"\n",
    "    n = len(vectors)\n",
    "    return scalar_multply(1/n, vector_sum(vectors))\n",
    "\n",
    "def dot(v, w):\n",
    "    \"\"\"Produtor escalar (dot product)\n",
    "    v_i * w_i ... + v+n * w_n\"\"\"\n",
    "    return sum(v_i * w_i\n",
    "    for v_i, v_i in zip(v, w))\n",
    "\n",
    "def sum_of_squares(v):\n",
    "    \"\"\"v_i * v_i + ... +  v_n*v_n\"\"\"\n",
    "    return dot(v,v)\n",
    "\n",
    "def magnitude(v):\n",
    "    return math.sqrt(sum_of_squares(v)) # math.sqrt = raiz quadrada\n",
    "\n",
    "def squared_distance(v, w):\n",
    "    \"\"\"(v_i -w_i)**2+...+(v_n-w_n)**2\"\"\"\n",
    "    return sum_of_squares(v, w)\n",
    "\n",
    "def distance(v, w):\n",
    "    return math.sqrt(squared_distance(v, w))"
   ]
  },
  {
   "cell_type": "markdown",
   "metadata": {},
   "source": [
    "## Melhorando funções"
   ]
  },
  {
   "cell_type": "code",
   "execution_count": 8,
   "metadata": {},
   "outputs": [],
   "source": [
    "def vector_sum(vectors):\n",
    "    return reduce(vector_add, vectors)\n",
    "\n",
    "def distance(v, w):\n",
    "    return magnitude(vector_sub(v, w))"
   ]
  }
 ],
 "metadata": {
  "kernelspec": {
   "display_name": "Python 3.8.5 64-bit ('base': conda)",
   "name": "python385jvsc74a57bd065f049f814a88fcef241dfb72efa50d23d4b13d5b6cd1da544e39f08a649c87d"
  },
  "language_info": {
   "codemirror_mode": {
    "name": "ipython",
    "version": 3
   },
   "file_extension": ".py",
   "mimetype": "text/x-python",
   "name": "python",
   "nbconvert_exporter": "python",
   "pygments_lexer": "ipython3",
   "version": "3.8.5"
  },
  "orig_nbformat": 2
 },
 "nbformat": 4,
 "nbformat_minor": 2
}