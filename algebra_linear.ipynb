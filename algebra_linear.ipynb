{
 "cells": [
  {
   "cell_type": "markdown",
   "metadata": {},
   "source": [
    "# Algebra Linear\n",
    "## Entendendo um pouco mais sobre algebra linear para data science e machine learning\n",
    "### Vetor\n",
    "### Modulos\n",
    "### Escalares\n",
    "### Operações com vetore"
   ]
  },
  {
   "cell_type": "code",
   "execution_count": null,
   "metadata": {},
   "outputs": [],
   "source": [
    "from functools import reduce"
   ]
  },
  {
   "cell_type": "markdown",
   "metadata": {},
   "source": [
    "## Exemplo de vetores R3 e R"
   ]
  },
  {
   "cell_type": "code",
   "execution_count": null,
   "metadata": {},
   "outputs": [],
   "source": [
    "# Vetor R3\n",
    "height_weight_age = [\n",
    "    70, # polegadas,\n",
    "    170, # quilos,\n",
    "    40 # anos\n",
    "]\n",
    "\n",
    "# Vetor R4\n",
    "grades = [\n",
    "    95, # teste1\n",
    "    80, # teste2\n",
    "    75, # teste3\n",
    "    62 # teste4\n",
    "]"
   ]
  },
  {
   "cell_type": "markdown",
   "metadata": {},
   "source": [
    "## Operações com vetores"
   ]
  },
  {
   "cell_type": "code",
   "execution_count": null,
   "metadata": {},
   "outputs": [],
   "source": [
    "def vector_add(v, w):\n",
    "    \"\"\"soma elementos crrespondentes\"\"\"\n",
    "    return [v_i + w_i\n",
    "    for v_i, w_i in zip(v, w)]\n",
    "\n",
    "def vextor_sub(v, w):\n",
    "    \"\"\"subtrai elementos correspondentes\"\"\"\n",
    "    return [v_i - w_i\n",
    "    for v_i, w_i in zip(v, w)]\n",
    "\n",
    "def vector_sum(vectors):\n",
    "    \"\"\"soma todo os elementos correpondentes\"\"\"\n",
    "    result = vectors[0] # começa com o primeiro vector\n",
    "    for vector in vectors[1:]: # depois passa or todos os outros\n",
    "        result = vector_add(result, vector) # e os adiciona ao resultado\n",
    "    return result"
   ]
  },
  {
   "cell_type": "markdown",
   "metadata": {},
   "source": [
    "## Melhorando a função vector_sum"
   ]
  },
  {
   "cell_type": "code",
   "execution_count": null,
   "metadata": {},
   "outputs": [],
   "source": [
    "def vector_sum(vectors):\n",
    "    return reduce(vector_add, vectors)"
   ]
  }
 ],
 "metadata": {
  "kernelspec": {
   "display_name": "Python 3.8.5 64-bit ('base': conda)",
   "name": "python385jvsc74a57bd065f049f814a88fcef241dfb72efa50d23d4b13d5b6cd1da544e39f08a649c87d"
  },
  "language_info": {
   "name": "python",
   "version": ""
  },
  "orig_nbformat": 2
 },
 "nbformat": 4,
 "nbformat_minor": 2
}